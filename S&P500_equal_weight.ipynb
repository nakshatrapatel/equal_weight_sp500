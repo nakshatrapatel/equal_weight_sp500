{
 "cells": [
  {
   "cell_type": "markdown",
   "id": "1d0b7505",
   "metadata": {},
   "source": [
    "# Equal Weight S&P500"
   ]
  },
  {
   "cell_type": "markdown",
   "id": "0ccc262f",
   "metadata": {},
   "source": [
    "### Library Imports"
   ]
  },
  {
   "cell_type": "code",
   "execution_count": 1,
   "id": "af9b9bd9",
   "metadata": {},
   "outputs": [],
   "source": [
    "import numpy as np\n",
    "import pandas as pd\n",
    "import requests\n",
    "import xlsxwriter\n",
    "import warnings"
   ]
  },
  {
   "cell_type": "markdown",
   "id": "58addac4",
   "metadata": {},
   "source": [
    "### Importing List of Stocks\n",
    "Using s&p500_updated as it is the updated list of s&p500 companies. This avoids using the try and except block later on."
   ]
  },
  {
   "cell_type": "code",
   "execution_count": 2,
   "id": "6e47c424",
   "metadata": {},
   "outputs": [],
   "source": [
    "stocks = pd.read_csv(\"s&p500_updated.csv\")"
   ]
  },
  {
   "cell_type": "markdown",
   "id": "8c979a8a",
   "metadata": {},
   "source": [
    "### Acquiring an API Token"
   ]
  },
  {
   "cell_type": "code",
   "execution_count": 3,
   "id": "d1429edc",
   "metadata": {},
   "outputs": [],
   "source": [
    "from secrets import IEX_CLOUD_API_TOKEN"
   ]
  },
  {
   "cell_type": "markdown",
   "id": "f34d129c",
   "metadata": {},
   "source": [
    "### Making an API Call\n",
    "\n",
    "1) base url get it from IEX Cloud documentation <br>\n",
    "2) we want the **\"quote\"** from the API because this gives us: <br>\n",
    "    - market capitalisation <br>\n",
    "    - price of each stock  <br>"
   ]
  },
  {
   "cell_type": "code",
   "execution_count": 4,
   "id": "34f0b021",
   "metadata": {},
   "outputs": [],
   "source": [
    "symbol = 'AAPL'\n",
    "api_url = f'https://sandbox.iexapis.com/stable/stock/{symbol}/quote/?token={IEX_CLOUD_API_TOKEN}'\n",
    "data = requests.get(api_url).json()"
   ]
  },
  {
   "cell_type": "markdown",
   "id": "8147d5c0",
   "metadata": {},
   "source": [
    "### Parsing the data"
   ]
  },
  {
   "cell_type": "code",
   "execution_count": 5,
   "id": "f6e452fa",
   "metadata": {},
   "outputs": [],
   "source": [
    "price = data['latestPrice']\n",
    "market_cap = data['marketCap']"
   ]
  },
  {
   "cell_type": "markdown",
   "id": "2a4c6d34",
   "metadata": {},
   "source": [
    "### Adding Stocks Data to Pandas Data Frame"
   ]
  },
  {
   "cell_type": "code",
   "execution_count": 6,
   "id": "b09510c7",
   "metadata": {},
   "outputs": [],
   "source": [
    "my_columns = ['Ticker', 'Price', 'Market Capitalization', 'No. of Shares to buy']\n",
    "dataframe = pd.DataFrame(columns=my_columns)"
   ]
  },
  {
   "cell_type": "markdown",
   "id": "db35621b",
   "metadata": {},
   "source": [
    "### To avoid the FutureWarning when appending onto the pd DataFrame"
   ]
  },
  {
   "cell_type": "code",
   "execution_count": 7,
   "id": "f37e69f3",
   "metadata": {},
   "outputs": [],
   "source": [
    "warnings.simplefilter(action='ignore', category=FutureWarning)"
   ]
  },
  {
   "cell_type": "markdown",
   "id": "1a159f58",
   "metadata": {},
   "source": [
    "### Appending the AAPL data onto the dataframe (testing)"
   ]
  },
  {
   "cell_type": "code",
   "execution_count": 8,
   "id": "d6187d9f",
   "metadata": {},
   "outputs": [],
   "source": [
    "aapl_data = pd.Series(['AAPL', price, market_cap, 'N/A'], index=my_columns) #index=my_columns alligns the data to the columns\n",
    "dataframe = dataframe.append(aapl_data, ignore_index=True) #can only append a series if ignore_index=True"
   ]
  },
  {
   "cell_type": "markdown",
   "id": "6693cfff",
   "metadata": {},
   "source": [
    "### Looping through all the Tickers\n",
    "\n",
    "Made use of try and except block to take into consideration the S&P500 list: <br>\n",
    "    - The S&P500 list is not constant as companies can be added or removed. If the API call doesn't work that means the company is no longer part of the S&P500 and thus we price it at 0 and give it a market capitalisation of 0 so it's not taken into consideration."
   ]
  },
  {
   "cell_type": "code",
   "execution_count": 9,
   "id": "176a65cc",
   "metadata": {},
   "outputs": [],
   "source": [
    "dataframe = pd.DataFrame(columns=my_columns)\n",
    "for symbol in stocks['Ticker']:\n",
    "    api_url = f\"https://sandbox.iexapis.com/stable/stock/{symbol}/quote/?token={IEX_CLOUD_API_TOKEN}\"\n",
    "    try:\n",
    "        data = requests.get(api_url).json()\n",
    "        price = data['latestPrice']\n",
    "        market_cap = data['marketCap']\n",
    "    except ValueError:\n",
    "        price = 0\n",
    "        market_cap = 0\n",
    "    ticker_data = pd.Series([symbol, data['latestPrice'], data['marketCap'], 'N/A'], index=my_columns)\n",
    "    dataframe = dataframe.append(ticker_data, ignore_index=True)"
   ]
  },
  {
   "cell_type": "markdown",
   "id": "3d8a2cd8",
   "metadata": {},
   "source": [
    "### Using Batch API Calls to improve performance\n",
    "Splitting the 500 into 5 batches to make 5 API calls instead of 500"
   ]
  },
  {
   "cell_type": "code",
   "execution_count": 10,
   "id": "7bae0922",
   "metadata": {},
   "outputs": [],
   "source": [
    "'''Function sourced from https://stackoverflow.com/questions/312443/how-do-you-split-a-list-into-evenly-sized-chunks'''\n",
    "def chunks(lst, n):\n",
    "    \"\"\"Yield successive n-sized chunks from lst.\"\"\"\n",
    "    for i in range(0, len(lst), n):\n",
    "        yield lst[i:i + n]"
   ]
  },
  {
   "cell_type": "code",
   "execution_count": 11,
   "id": "308afa27",
   "metadata": {},
   "outputs": [],
   "source": [
    "ticker_groups = list(chunks(stocks['Ticker'], 100))\n",
    "batch_apis = []\n",
    "for i in range(len(ticker_groups)):\n",
    "    batch_apis.append(\",\".join(ticker_groups[i]))\n",
    "\n",
    "final_dataframe = pd.DataFrame(columns=my_columns)\n",
    "\n",
    "for batch_api in batch_apis:\n",
    "    batch_api_url = f\"https://sandbox.iexapis.com/stable/stock/market/batch/?types=quote&symbols={batch_api}&token={IEX_CLOUD_API_TOKEN}\"\n",
    "    #batch api url is different to normal api urls. See documentation on IEX Clous\n",
    "    data = requests.get(batch_api_url).json()\n",
    "    tickers = batch_api.split(',')\n",
    "    for ticker in tickers:\n",
    "        price = data[ticker]['quote']['latestPrice']\n",
    "        market_cap = data[ticker]['quote']['marketCap']\n",
    "        ticker_data = pd.Series([ticker, price, market_cap, 'N/A'], index=my_columns)\n",
    "        final_dataframe = final_dataframe.append(ticker_data, ignore_index=True)"
   ]
  },
  {
   "cell_type": "code",
   "execution_count": 12,
   "id": "e36bd1f2",
   "metadata": {},
   "outputs": [
    {
     "data": {
      "text/html": [
       "<div>\n",
       "<style scoped>\n",
       "    .dataframe tbody tr th:only-of-type {\n",
       "        vertical-align: middle;\n",
       "    }\n",
       "\n",
       "    .dataframe tbody tr th {\n",
       "        vertical-align: top;\n",
       "    }\n",
       "\n",
       "    .dataframe thead th {\n",
       "        text-align: right;\n",
       "    }\n",
       "</style>\n",
       "<table border=\"1\" class=\"dataframe\">\n",
       "  <thead>\n",
       "    <tr style=\"text-align: right;\">\n",
       "      <th></th>\n",
       "      <th>Ticker</th>\n",
       "      <th>Price</th>\n",
       "      <th>Market Capitalization</th>\n",
       "      <th>No. of Shares to buy</th>\n",
       "    </tr>\n",
       "  </thead>\n",
       "  <tbody>\n",
       "    <tr>\n",
       "      <th>0</th>\n",
       "      <td>MMM</td>\n",
       "      <td>124.22</td>\n",
       "      <td>69094458997</td>\n",
       "      <td>N/A</td>\n",
       "    </tr>\n",
       "    <tr>\n",
       "      <th>1</th>\n",
       "      <td>AOS</td>\n",
       "      <td>56.54</td>\n",
       "      <td>8720784414</td>\n",
       "      <td>N/A</td>\n",
       "    </tr>\n",
       "    <tr>\n",
       "      <th>2</th>\n",
       "      <td>ABT</td>\n",
       "      <td>108.83</td>\n",
       "      <td>193098627206</td>\n",
       "      <td>N/A</td>\n",
       "    </tr>\n",
       "    <tr>\n",
       "      <th>3</th>\n",
       "      <td>ABBV</td>\n",
       "      <td>168.47</td>\n",
       "      <td>293887886278</td>\n",
       "      <td>N/A</td>\n",
       "    </tr>\n",
       "    <tr>\n",
       "      <th>4</th>\n",
       "      <td>ABMD</td>\n",
       "      <td>389.34</td>\n",
       "      <td>17697530893</td>\n",
       "      <td>N/A</td>\n",
       "    </tr>\n",
       "    <tr>\n",
       "      <th>...</th>\n",
       "      <td>...</td>\n",
       "      <td>...</td>\n",
       "      <td>...</td>\n",
       "      <td>...</td>\n",
       "    </tr>\n",
       "    <tr>\n",
       "      <th>497</th>\n",
       "      <td>YUM</td>\n",
       "      <td>130.24</td>\n",
       "      <td>36523249076</td>\n",
       "      <td>N/A</td>\n",
       "    </tr>\n",
       "    <tr>\n",
       "      <th>498</th>\n",
       "      <td>ZBRA</td>\n",
       "      <td>250.94</td>\n",
       "      <td>13133887145</td>\n",
       "      <td>N/A</td>\n",
       "    </tr>\n",
       "    <tr>\n",
       "      <th>499</th>\n",
       "      <td>ZBH</td>\n",
       "      <td>128.35</td>\n",
       "      <td>27507533740</td>\n",
       "      <td>N/A</td>\n",
       "    </tr>\n",
       "    <tr>\n",
       "      <th>500</th>\n",
       "      <td>ZION</td>\n",
       "      <td>47.75</td>\n",
       "      <td>7086301214</td>\n",
       "      <td>N/A</td>\n",
       "    </tr>\n",
       "    <tr>\n",
       "      <th>501</th>\n",
       "      <td>ZTS</td>\n",
       "      <td>144.65</td>\n",
       "      <td>67513752072</td>\n",
       "      <td>N/A</td>\n",
       "    </tr>\n",
       "  </tbody>\n",
       "</table>\n",
       "<p>502 rows × 4 columns</p>\n",
       "</div>"
      ],
      "text/plain": [
       "    Ticker   Price Market Capitalization No. of Shares to buy\n",
       "0      MMM  124.22           69094458997                  N/A\n",
       "1      AOS   56.54            8720784414                  N/A\n",
       "2      ABT  108.83          193098627206                  N/A\n",
       "3     ABBV  168.47          293887886278                  N/A\n",
       "4     ABMD  389.34           17697530893                  N/A\n",
       "..     ...     ...                   ...                  ...\n",
       "497    YUM  130.24           36523249076                  N/A\n",
       "498   ZBRA  250.94           13133887145                  N/A\n",
       "499    ZBH  128.35           27507533740                  N/A\n",
       "500   ZION   47.75            7086301214                  N/A\n",
       "501    ZTS  144.65           67513752072                  N/A\n",
       "\n",
       "[502 rows x 4 columns]"
      ]
     },
     "execution_count": 12,
     "metadata": {},
     "output_type": "execute_result"
    }
   ],
   "source": [
    "final_dataframe"
   ]
  },
  {
   "cell_type": "markdown",
   "id": "27af248b",
   "metadata": {},
   "source": [
    "### Calculating the Number of Shares to buy\n",
    "\n",
    "Implemented a reccursive function to allow the user to input how much money they want to invest. Then the following function will return how many of each shares should be bought to get an equal weighting as the S&P500"
   ]
  },
  {
   "cell_type": "code",
   "execution_count": 13,
   "id": "fa2c17e1",
   "metadata": {},
   "outputs": [
    {
     "name": "stdout",
     "output_type": "stream",
     "text": [
      "How much money would you like to invest? ($) 100000\n",
      "Thank you\n"
     ]
    }
   ],
   "source": [
    "val = input(\"How much money would you like to invest? ($) \")\n",
    "value = []\n",
    "def money(val):\n",
    "    try:\n",
    "        num = float(val)\n",
    "    except:\n",
    "        num = \"error\"\n",
    "        \n",
    "    if type(num) == float:\n",
    "        print(\"Thank you\")\n",
    "        value.append(num)\n",
    "    else:\n",
    "        val = input(\"Please input a number \")\n",
    "        return money(val)\n",
    "\n",
    "money(val)"
   ]
  },
  {
   "cell_type": "code",
   "execution_count": 14,
   "id": "8df56285",
   "metadata": {},
   "outputs": [],
   "source": [
    "invest = value[0]\n",
    "\n",
    "def equal_weight_sp500(invest):\n",
    "    '''Calculates how many shares to get of each stock'''\n",
    "    ratio = invest / len(final_dataframe)\n",
    "    for i in range(0, len(final_dataframe)):\n",
    "        final_dataframe.loc[i, 'No. of Shares to buy'] = ratio // final_dataframe['Price'][i]\n",
    "    return final_dataframe"
   ]
  },
  {
   "cell_type": "code",
   "execution_count": 15,
   "id": "f7ae273f",
   "metadata": {},
   "outputs": [
    {
     "data": {
      "text/html": [
       "<div>\n",
       "<style scoped>\n",
       "    .dataframe tbody tr th:only-of-type {\n",
       "        vertical-align: middle;\n",
       "    }\n",
       "\n",
       "    .dataframe tbody tr th {\n",
       "        vertical-align: top;\n",
       "    }\n",
       "\n",
       "    .dataframe thead th {\n",
       "        text-align: right;\n",
       "    }\n",
       "</style>\n",
       "<table border=\"1\" class=\"dataframe\">\n",
       "  <thead>\n",
       "    <tr style=\"text-align: right;\">\n",
       "      <th></th>\n",
       "      <th>Ticker</th>\n",
       "      <th>Price</th>\n",
       "      <th>Market Capitalization</th>\n",
       "      <th>No. of Shares to buy</th>\n",
       "    </tr>\n",
       "  </thead>\n",
       "  <tbody>\n",
       "    <tr>\n",
       "      <th>0</th>\n",
       "      <td>MMM</td>\n",
       "      <td>124.22</td>\n",
       "      <td>69094458997</td>\n",
       "      <td>1.0</td>\n",
       "    </tr>\n",
       "    <tr>\n",
       "      <th>1</th>\n",
       "      <td>AOS</td>\n",
       "      <td>56.54</td>\n",
       "      <td>8720784414</td>\n",
       "      <td>3.0</td>\n",
       "    </tr>\n",
       "    <tr>\n",
       "      <th>2</th>\n",
       "      <td>ABT</td>\n",
       "      <td>108.83</td>\n",
       "      <td>193098627206</td>\n",
       "      <td>1.0</td>\n",
       "    </tr>\n",
       "    <tr>\n",
       "      <th>3</th>\n",
       "      <td>ABBV</td>\n",
       "      <td>168.47</td>\n",
       "      <td>293887886278</td>\n",
       "      <td>1.0</td>\n",
       "    </tr>\n",
       "    <tr>\n",
       "      <th>4</th>\n",
       "      <td>ABMD</td>\n",
       "      <td>389.34</td>\n",
       "      <td>17697530893</td>\n",
       "      <td>0.0</td>\n",
       "    </tr>\n",
       "    <tr>\n",
       "      <th>...</th>\n",
       "      <td>...</td>\n",
       "      <td>...</td>\n",
       "      <td>...</td>\n",
       "      <td>...</td>\n",
       "    </tr>\n",
       "    <tr>\n",
       "      <th>497</th>\n",
       "      <td>YUM</td>\n",
       "      <td>130.24</td>\n",
       "      <td>36523249076</td>\n",
       "      <td>1.0</td>\n",
       "    </tr>\n",
       "    <tr>\n",
       "      <th>498</th>\n",
       "      <td>ZBRA</td>\n",
       "      <td>250.94</td>\n",
       "      <td>13133887145</td>\n",
       "      <td>0.0</td>\n",
       "    </tr>\n",
       "    <tr>\n",
       "      <th>499</th>\n",
       "      <td>ZBH</td>\n",
       "      <td>128.35</td>\n",
       "      <td>27507533740</td>\n",
       "      <td>1.0</td>\n",
       "    </tr>\n",
       "    <tr>\n",
       "      <th>500</th>\n",
       "      <td>ZION</td>\n",
       "      <td>47.75</td>\n",
       "      <td>7086301214</td>\n",
       "      <td>4.0</td>\n",
       "    </tr>\n",
       "    <tr>\n",
       "      <th>501</th>\n",
       "      <td>ZTS</td>\n",
       "      <td>144.65</td>\n",
       "      <td>67513752072</td>\n",
       "      <td>1.0</td>\n",
       "    </tr>\n",
       "  </tbody>\n",
       "</table>\n",
       "<p>502 rows × 4 columns</p>\n",
       "</div>"
      ],
      "text/plain": [
       "    Ticker   Price Market Capitalization No. of Shares to buy\n",
       "0      MMM  124.22           69094458997                  1.0\n",
       "1      AOS   56.54            8720784414                  3.0\n",
       "2      ABT  108.83          193098627206                  1.0\n",
       "3     ABBV  168.47          293887886278                  1.0\n",
       "4     ABMD  389.34           17697530893                  0.0\n",
       "..     ...     ...                   ...                  ...\n",
       "497    YUM  130.24           36523249076                  1.0\n",
       "498   ZBRA  250.94           13133887145                  0.0\n",
       "499    ZBH  128.35           27507533740                  1.0\n",
       "500   ZION   47.75            7086301214                  4.0\n",
       "501    ZTS  144.65           67513752072                  1.0\n",
       "\n",
       "[502 rows x 4 columns]"
      ]
     },
     "execution_count": 15,
     "metadata": {},
     "output_type": "execute_result"
    }
   ],
   "source": [
    "equal_weight_sp500(invest)"
   ]
  },
  {
   "cell_type": "markdown",
   "id": "75843e9c",
   "metadata": {},
   "source": [
    "### Using the xlsxwriter to format the output into an excel file"
   ]
  },
  {
   "cell_type": "code",
   "execution_count": 16,
   "id": "a14a442a",
   "metadata": {},
   "outputs": [],
   "source": [
    "writer = pd.ExcelWriter(\"Recommended_Trades.xlsx\", engine='xlsxwriter')\n",
    "final_dataframe.to_excel(writer, sheet_name=\"Recommended Trades\", index=False)"
   ]
  },
  {
   "cell_type": "code",
   "execution_count": 17,
   "id": "08bb8d9f",
   "metadata": {},
   "outputs": [],
   "source": [
    "background_color = '#FFFFFF'\n",
    "font_color = '#000000'\n",
    "\n",
    "string_format = writer.book.add_format({'font_color': font_color, 'bg_color': background_color})\n",
    "\n",
    "dollar_format = writer.book.add_format({'num_format':'$0.00', 'font_color': font_color, \n",
    "                                        'bg_color': background_color})\n",
    "\n",
    "integer_format = writer.book.add_format({'num_format':'0','font_color': font_color,\n",
    "                                         'bg_color': background_color, 'border':1})\n"
   ]
  },
  {
   "cell_type": "code",
   "execution_count": 18,
   "id": "d3f5919d",
   "metadata": {},
   "outputs": [],
   "source": [
    "column_formats = {'A': ['Ticker', string_format],'B': ['Price', dollar_format],\n",
    "                  'C': ['Market Capitalization', dollar_format], 'D': ['Number of Shares to Buy', integer_format]}\n",
    "\n",
    "for column in column_formats.keys():\n",
    "    writer.sheets['Recommended Trades'].set_column(f'{column}:{column}', 20, column_formats[column][1])\n",
    "    writer.sheets['Recommended Trades'].write(f'{column}1', column_formats[column][0], string_format)"
   ]
  },
  {
   "cell_type": "code",
   "execution_count": 19,
   "id": "1e6e57ef",
   "metadata": {},
   "outputs": [],
   "source": [
    "writer.save()"
   ]
  },
  {
   "cell_type": "code",
   "execution_count": null,
   "id": "f5fecf60",
   "metadata": {},
   "outputs": [],
   "source": []
  }
 ],
 "metadata": {
  "kernelspec": {
   "display_name": "Python 3 (ipykernel)",
   "language": "python",
   "name": "python3"
  },
  "language_info": {
   "codemirror_mode": {
    "name": "ipython",
    "version": 3
   },
   "file_extension": ".py",
   "mimetype": "text/x-python",
   "name": "python",
   "nbconvert_exporter": "python",
   "pygments_lexer": "ipython3",
   "version": "3.9.7"
  }
 },
 "nbformat": 4,
 "nbformat_minor": 5
}
